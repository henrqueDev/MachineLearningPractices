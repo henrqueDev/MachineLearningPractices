{
 "cells": [
  {
   "cell_type": "markdown",
   "metadata": {},
   "source": [
    "Carregar a base TITANIC do seaborn"
   ]
  },
  {
   "cell_type": "code",
   "execution_count": 70,
   "metadata": {},
   "outputs": [],
   "source": [
    "import pandas as pd\n",
    "from seaborn import load_dataset\n",
    "#url = \"https://raw.githubusercontent.com/tmoura/machinelearning/master/transfusion.data\"\n",
    "\n",
    "df = load_dataset('titanic')"
   ]
  },
  {
   "cell_type": "markdown",
   "metadata": {},
   "source": [
    "Remover as linhas que teham valores NaN"
   ]
  },
  {
   "cell_type": "code",
   "execution_count": 71,
   "metadata": {},
   "outputs": [],
   "source": [
    "\n",
    "df = df.drop('deck', axis=1)\n",
    "\n",
    "df = df.dropna()\n",
    "df = df.drop('adult_male', axis=1)\n",
    "df = df.drop('alive', axis=1)\n",
    "df = df.drop('class', axis=1)"
   ]
  },
  {
   "cell_type": "markdown",
   "metadata": {},
   "source": [
    "Transformar todos os atributos categóricos usando One-Hot Encoder"
   ]
  },
  {
   "cell_type": "code",
   "execution_count": 72,
   "metadata": {},
   "outputs": [],
   "source": [
    "from sklearn.compose import make_column_transformer\n",
    "from sklearn.preprocessing import OneHotEncoder\n",
    "\n",
    "column_transformer = make_column_transformer((OneHotEncoder(), ['embarked', 'who', 'sex', 'embark_town', 'alone']), remainder='passthrough')\n",
    "\n",
    "df = column_transformer.fit_transform(df)\n",
    "\n",
    "df = pd.DataFrame(data=df)"
   ]
  },
  {
   "cell_type": "markdown",
   "metadata": {},
   "source": [
    "Coluna target é a \"pclass\" ou \"survived\""
   ]
  },
  {
   "cell_type": "code",
   "execution_count": 73,
   "metadata": {},
   "outputs": [],
   "source": [
    "y = df[0]\n",
    "\n",
    "X = df.drop(0,axis=1)"
   ]
  },
  {
   "cell_type": "markdown",
   "metadata": {},
   "source": [
    "Separar os dados de treinamento e testes"
   ]
  },
  {
   "cell_type": "code",
   "execution_count": 74,
   "metadata": {},
   "outputs": [],
   "source": [
    "from sklearn.model_selection import train_test_split\n",
    "from sklearn import preprocessing\n",
    "\n",
    "X_train, X_test, y_train, y_test = train_test_split(X, y, test_size= 0.2, random_state=None, stratify=y)\n",
    "\n",
    "x = X.values\n",
    "min_max_scaler = preprocessing.MinMaxScaler()\n",
    "x_scaled = min_max_scaler.fit_transform(x)"
   ]
  },
  {
   "cell_type": "markdown",
   "metadata": {},
   "source": [
    "Treinar 2 árvores de decisão com características diferentes "
   ]
  },
  {
   "cell_type": "code",
   "execution_count": 75,
   "metadata": {},
   "outputs": [],
   "source": [
    "from sklearn.tree import DecisionTreeClassifier\n",
    "\n",
    "modelo1DecTree = DecisionTreeClassifier(criterion='entropy')\n",
    "modelo2DecTree = DecisionTreeClassifier(criterion='entropy', max_depth=2)\n",
    "\n",
    "modelo1DecTree.fit(X_train, y_train)\n",
    "modelo2DecTree.fit(X_train, y_train)\n",
    "\n",
    "\n",
    "res1 = modelo1DecTree.predict(X_test)\n",
    "res2 = modelo2DecTree.predict(X_test)\n"
   ]
  },
  {
   "cell_type": "markdown",
   "metadata": {},
   "source": [
    "\n",
    "Treinar 2 kNN com características diferentes"
   ]
  },
  {
   "cell_type": "code",
   "execution_count": 76,
   "metadata": {},
   "outputs": [],
   "source": [
    "from sklearn.neighbors import KNeighborsClassifier\n",
    "\n",
    "modelo3KNN = KNeighborsClassifier(n_neighbors=7, metric='euclidean', algorithm='brute')\n",
    "modelo4KNN = KNeighborsClassifier(n_neighbors=4, metric='euclidean', algorithm='brute')\n",
    "\n",
    "\n",
    "modelo3KNN.fit(X_train, y_train)\n",
    "modelo4KNN.fit(X_train, y_train)\n",
    "\n",
    "\n",
    "res3 = modelo3KNN.predict(X_test)\n",
    "res4 = modelo4KNN.predict(X_test)"
   ]
  },
  {
   "cell_type": "markdown",
   "metadata": {},
   "source": [
    "Resultados"
   ]
  },
  {
   "cell_type": "code",
   "execution_count": 77,
   "metadata": {},
   "outputs": [
    {
     "name": "stdout",
     "output_type": "stream",
     "text": [
      "100%\n",
      "100%\n",
      "80%\n",
      "81%\n"
     ]
    }
   ],
   "source": [
    "from sklearn import metrics\n",
    "\n",
    "acc1 = metrics.accuracy_score(res1, y_test)\n",
    "show1 = round(acc1 * 100)\n",
    "print(\"{}%\".format(show1))\n",
    "\n",
    "acc2 = metrics.accuracy_score(res2, y_test)\n",
    "show2 = round(acc2 * 100)\n",
    "print(\"{}%\".format(show2))\n",
    "\n",
    "acc3 = metrics.accuracy_score(res3, y_test)\n",
    "show3 = round(acc3 * 100)\n",
    "print(\"{}%\".format(show3))\n",
    "\n",
    "acc4 = metrics.accuracy_score(res4, y_test)\n",
    "show4 = round(acc4 * 100)\n",
    "print(\"{}%\".format(show4))"
   ]
  }
 ],
 "metadata": {
  "kernelspec": {
   "display_name": "Python 3",
   "language": "python",
   "name": "python3"
  },
  "language_info": {
   "codemirror_mode": {
    "name": "ipython",
    "version": 3
   },
   "file_extension": ".py",
   "mimetype": "text/x-python",
   "name": "python",
   "nbconvert_exporter": "python",
   "pygments_lexer": "ipython3",
   "version": "3.9.13"
  },
  "orig_nbformat": 4
 },
 "nbformat": 4,
 "nbformat_minor": 2
}
