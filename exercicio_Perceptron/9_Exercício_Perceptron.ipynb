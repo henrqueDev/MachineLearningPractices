{
  "cells": [
    {
      "cell_type": "markdown",
      "metadata": {
        "id": "xjDzeXKjaqDW"
      },
      "source": [
        "### Perceptron"
      ]
    },
    {
      "cell_type": "code",
      "execution_count": 2,
      "metadata": {
        "id": "ZdAbFOMDams4"
      },
      "outputs": [],
      "source": [
        "import numpy as np\n",
        "class Perceptron:\n",
        "\n",
        "  def __init__(self, teta, w, n, epochs):\n",
        "\n",
        "    self.teta = teta\n",
        "    self.w = w\n",
        "    self.n = n\n",
        "    self.epochs = epochs\n",
        "\n",
        "  def train_perceptron(self,train_x,train_y):\n",
        "\n",
        "    for i in range(self.epochs):\n",
        "      for j in range(len(train_x)):\n",
        "\n",
        "        u = sum(np.array(self.w) * np.array(train_x[j])) - self.teta # Função de Ativação\n",
        "\n",
        "        y = 1 if u >= 0 else 0 # Função de Saída\n",
        "\n",
        "        erro = train_y[j] - y\n",
        "\n",
        "        self.w = list(np.array(self.w) + (self.n * np.array(train_x[j]) * erro))\n",
        "\n",
        "        self.teta = self.teta + (self.n * -1 * erro)\n",
        "\n",
        "  def predict_perceptron(self,test_x):\n",
        "\n",
        "    results = []\n",
        "\n",
        "    for i in range(len(test_x)):\n",
        "\n",
        "        u = sum(np.array(self.w) * np.array(test_x[i])) - self.teta\n",
        "\n",
        "        r = 1 if u >= 0 else 0\n",
        "        results.append(r)\n",
        "\n",
        "    return results"
      ]
    },
    {
      "cell_type": "markdown",
      "metadata": {
        "id": "rJlVbBLwaRcs"
      },
      "source": [
        "### Perceptron para resolver o AND e o OR"
      ]
    },
    {
      "cell_type": "code",
      "execution_count": 3,
      "metadata": {
        "id": "_8llK0U5aF6C"
      },
      "outputs": [],
      "source": [
        "############ AND\n",
        "\n",
        "x = np.array([[0, 0], [0, 1], [1, 0], [1, 1]])\n",
        "y = np.array([0, 0, 0, 1])\n",
        "\n",
        "############ OR\n",
        "\n",
        "#y = np.array([0, 1, 1, 1])"
      ]
    },
    {
      "cell_type": "code",
      "execution_count": 4,
      "metadata": {
        "id": "ULXllsowbaZu"
      },
      "outputs": [
        {
          "data": {
            "text/plain": [
              "[1, 0, 0, 0]"
            ]
          },
          "execution_count": 4,
          "metadata": {},
          "output_type": "execute_result"
        }
      ],
      "source": [
        "## 1) Inicializar os parâmetros do Perceptron (de forma aleatória ou com 0 (zero))\n",
        "perceptro = Perceptron(\n",
        "    0.5,\n",
        "    -1.5,\n",
        "    0.1,\n",
        "    10\n",
        ")\n",
        "## 2) Treinar o AND e depois fazer o predict com a matriz x\n",
        "perceptro.train_perceptron(x,y)\n",
        "perceptro.predict_perceptron(x)\n",
        "## 3) Treinar o OR e depois fazer o predict com a matriz x"
      ]
    },
    {
      "cell_type": "markdown",
      "metadata": {
        "id": "pCZqZg8BeoSa"
      },
      "source": [
        "### Base de Classificação Sintética"
      ]
    },
    {
      "cell_type": "code",
      "execution_count": 3,
      "metadata": {
        "id": "MYzy5jeKfFAj"
      },
      "outputs": [],
      "source": [
        "## Função para plotar o dataset com o perceptron\n",
        "import matplotlib.pyplot as plt\n",
        "\n",
        "def plot_linear_classifier(x, y, w, teta):\n",
        "    x1_min, x1_max = x[:,0].min(), x[:,0].max()\n",
        "    x2_min, x2_max = x[:,1].min(), x[:,1].max()\n",
        "\n",
        "    x1, x2 = np.meshgrid(np.linspace(x1_min-1, x1_max+1,100), np.linspace(x2_min-1, x2_max+1, 100))\n",
        "    x_mesh = np.array([x1.ravel(), x2.ravel()]).T\n",
        "\n",
        "    plt.scatter(x[:,0], x[:,1], c=y.ravel(), cmap='bwr')\n",
        "\n",
        "    y_mesh = np.dot(x_mesh, np.array(w).reshape(1, -1).T) + teta\n",
        "    y_mesh = np.where(y_mesh <= 0, 0, 1)\n",
        "\n",
        "    plt.contourf(x1, x2, y_mesh.reshape(x1.shape), cmap='bwr', alpha=0.5)\n",
        "    plt.xlim(x1_min-1, x1_max+1)\n",
        "    plt.ylim(x2_min-1, x2_max+1)"
      ]
    },
    {
      "cell_type": "code",
      "execution_count": 13,
      "metadata": {
        "id": "DQ9XncebewoF"
      },
      "outputs": [
        {
          "data": {
            "image/png": "[encoded data removed]",
            "text/plain": [
              "<Figure size 640x480 with 1 Axes>"
            ]
          },
          "metadata": {},
          "output_type": "display_data"
        }
      ],
      "source": [
        "\n",
        "from sklearn.datasets import make_blobs\n",
        "\n",
        "x, y = make_blobs(n_samples=100, n_features=2, centers=2, random_state=1234) # Gerar dataset com 2 clusters\n",
        "\n",
        "## 4) Inicializar os parâmetros do Perceptron (de forma aleatória ou com 0 (zero))\n",
        "perceptro = Perceptron(\n",
        "    1.2,\n",
        "    -1.5,\n",
        "    0.6,\n",
        "    10\n",
        ")\n",
        "## 5) Treinar o Perceptron\n",
        "perceptro.train_perceptron(x,y)\n",
        "## 6) Plotar o dataset com os parâmetros do Perceptron usando a função \"plot_linear_classifier\"\n",
        "plot = plot_linear_classifier(x, y, perceptro.w, perceptro.teta)\n",
        "plt.show()\n"
      ]
    },
    {
      "cell_type": "code",
      "execution_count": null,
      "metadata": {
        "id": "ruhqoJ_0lDZn"
      },
      "outputs": [],
      "source": [
        "from sklearn import metrics\n",
        "\n",
        "## 7) Fazer o predict do Perceptron usando a matriz x\n",
        "predict = perceptro.predict_perceptron(x)\n",
        "## 8) Calcular a acurácia com a função: \"accuracy_score\" e printar o resultado\n",
        "acuracia = metrics.accuracy_score("
      ]
    },
    {
      "cell_type": "markdown",
      "metadata": {
        "id": "EHcAJSG96fME"
      },
      "source": [
        "### Dataset Sintético"
      ]
    },
    {
      "cell_type": "code",
      "execution_count": null,
      "metadata": {
        "id": "RMXiSvoM6jTc"
      },
      "outputs": [],
      "source": [
        "import pandas as pd\n",
        "\n",
        "df = pd.DataFrame(columns=('x1', 'x2'), data=np.random.uniform(size=(600,2)))\n",
        "\n",
        "\n",
        "\n",
        "#### Plotar o Dataset Sintético\n",
        "fig = plt.figure(figsize=(10,10))\n",
        "ax = fig.gca()\n",
        "\n",
        "def testing(inputs):\n",
        "    answer = int(np.sum(inputs) > 1)\n",
        "    return answer\n",
        "\n",
        "df['y'] = df.apply(testing, axis=1)\n",
        "\n",
        "df[df.y==1].plot(kind='scatter', ax=ax, x='x1', y='x2', color='blue')\n",
        "df[df.y==0].plot(kind='scatter', ax=ax, x='x1', y='x2', color='red')\n",
        "plt.grid()\n",
        "plt.title('Dataset')\n",
        "ax.set_xlim(-0.1,1.1)\n",
        "ax.set_ylim(-0.1,1.1)"
      ]
    },
    {
      "cell_type": "code",
      "execution_count": null,
      "metadata": {
        "id": "2GdowvOA7vOU"
      },
      "outputs": [],
      "source": [
        "y = df['y'] # extrai a primeira coluna, que é o label\n",
        "X = df.loc[:, 'x1':'x2']"
      ]
    },
    {
      "cell_type": "code",
      "execution_count": null,
      "metadata": {
        "id": "_qH9tSeVBHW0"
      },
      "outputs": [],
      "source": [
        "from sklearn.model_selection import train_test_split\n",
        "\n",
        "## 9) Separar os dados em treinamento e teste\n",
        "## 10) Inicializar o Perceptron com os parâmetros necessários\n",
        "## 11) Converter os conjuntos em list, ex: \"train_x = X_train.values.tolist()\"\n",
        "## 12) Treinar o perceptron"
      ]
    },
    {
      "cell_type": "code",
      "execution_count": null,
      "metadata": {
        "id": "-JCZXEMDCOOs"
      },
      "outputs": [],
      "source": [
        "from sklearn import metrics\n",
        "\n",
        "## 13) Fazer o predict do Perceptron usando a matriz x\n",
        "## 14) Calcular a acurácia com a função: \"accuracy_score\" e printar o resultado"
      ]
    }
  ],
  "metadata": {
    "colab": {
      "provenance": [],
      "toc_visible": true
    },
    "kernelspec": {
      "display_name": "Python 3",
      "name": "python3"
    },
    "language_info": {
      "codemirror_mode": {
        "name": "ipython",
        "version": 3
      },
      "file_extension": ".py",
      "mimetype": "text/x-python",
      "name": "python",
      "nbconvert_exporter": "python",
      "pygments_lexer": "ipython3",
      "version": "3.9.13"
    }
  },
  "nbformat": 4,
  "nbformat_minor": 0
}
